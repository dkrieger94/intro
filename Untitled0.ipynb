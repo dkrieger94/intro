{
  "nbformat": 4,
  "nbformat_minor": 0,
  "metadata": {
    "colab": {
      "name": "Untitled0.ipynb",
      "provenance": [],
      "collapsed_sections": [],
      "include_colab_link": true
    },
    "kernelspec": {
      "name": "python3",
      "display_name": "Python 3"
    },
    "language_info": {
      "name": "python"
    }
  },
  "cells": [
    {
      "cell_type": "markdown",
      "metadata": {
        "id": "view-in-github",
        "colab_type": "text"
      },
      "source": [
        "<a href=\"https://colab.research.google.com/github/dkrieger94/intro/blob/master/Untitled0.ipynb\" target=\"_parent\"><img src=\"https://colab.research.google.com/assets/colab-badge.svg\" alt=\"Open In Colab\"/></a>"
      ]
    },
    {
      "cell_type": "code",
      "metadata": {
        "id": "xCxjWuuA82hs",
        "colab": {
          "base_uri": "https://localhost:8080/"
        },
        "outputId": "2b9730c9-e566-4b79-8ee8-ea722fc63be1"
      },
      "source": [
        "import numpy as np\n",
        "from scipy.integrate import odeint\n",
        "\n",
        "import matplotlib.pyplot as plt\n",
        "\n",
        "A=204.\n",
        "B=2.17\n",
        "\n",
        "sigma = 5.6703726226e-08\n",
        "S0 = 1365.2                 # solar constant (W / m**2)\n",
        "emss = 0.6                  # atmosphere emissivity\n",
        "\n",
        "rho_w = 1028.   # density of water (kg / m**3)\n",
        "cw = 4200     # specific heat of liquid water (J / kg / K)\n",
        "\n",
        "#  Some useful time conversion factors\n",
        "seconds_per_minute = 60.\n",
        "minutes_per_hour = 60.\n",
        "hours_per_day = 24.\n",
        "days_per_year = 365.2422\n",
        "seconds_per_hour = minutes_per_hour * seconds_per_minute\n",
        "minutes_per_day = hours_per_day * minutes_per_hour\n",
        "seconds_per_day = hours_per_day * seconds_per_hour\n",
        "seconds_per_year = seconds_per_day * days_per_year\n",
        "\n",
        "\n",
        "class ESM:\n",
        "\n",
        "    def __init__(self,\n",
        "                 solar_cnst=0.25 * S0,\n",
        "                 albedo=0.3,\n",
        "                 emissivity=emss,\n",
        "                 depth=10.0,\n",
        "                 t_init=273.15,\n",
        "                 lin_olr=False):\n",
        "        self.t = t_init\n",
        "        self.albedo = albedo\n",
        "        self.solar_cnst = solar_cnst\n",
        "        self.lin_olr = lin_olr\n",
        "\n",
        "        self.depth = depth    # characteristic depth for Ts   (m)\n",
        "        self.tau = self.depth * rho_w * cw # time scale for integration\n",
        "\n",
        "\n",
        "        # effective emiss. * Stefan-Boltzmann constant\n",
        "        self.emss_cns = 1.0 - 0.5 * emissivity\n",
        "\n",
        "    #---------------------------------------------------------------------------\n",
        "    #------------------   Definition of model processes    ---------------------\n",
        "    #---------------------------------------------------------------------------\n",
        "    def compute_albedo(self, t):\n",
        "        return self.albedo\n",
        "\n",
        "    def compute_ASR(self, t):\n",
        "        return (1 - self.compute_albedo(t)) * self.solar_cnst\n",
        "\n",
        "    def compute_OLR(self, t):\n",
        "        if self.lin_olr:\n",
        "            return A + B * (t - 273.15)\n",
        "        else:\n",
        "            return self.emss_cns * sigma * t ** 4\n",
        "\n",
        "    def compute_NRI(self, t):\n",
        "        return self.compute_ASR(t) - self.compute_OLR(t)\n",
        "\n",
        "    def model_state(self):\n",
        "        print('Temeprature: ', self.t, ' [K]')\n",
        "        print('Surface albedo: ', self.compute_albedo(self.t), ' [-]')\n",
        "        print('ASR: ', self.compute_ASR(self.t), ' [W/m^2]' )\n",
        "        print('OLR: ', self.compute_OLR(self.t), ' [W/m^2]' )\n",
        "        print('NRI: ', self.compute_NRI(self.t), ' [W/m^2]' )\n",
        "\n",
        "    #---------------------------------------------------------------------------\n",
        "    #------------------          Model numerics            ---------------------\n",
        "    #---------------------------------------------------------------------------\n",
        "\n",
        "    def integrate(self, sim_time=1.0, out_freq=None,\n",
        "                  update_state=True, verbose=False):\n",
        "        '''\n",
        "            sim_time: integration time as a fraction of the time_scale\n",
        "        '''\n",
        "\n",
        "        # store of time array:\n",
        "        if out_freq is None:\n",
        "            time = np.array([0.0, sim_time,])\n",
        "        else:\n",
        "            time = np.arange(0.0, sim_time, out_freq)\n",
        "\n",
        "        time_scale = seconds_per_year / self.tau\n",
        "        \n",
        "        # storing a copy of initial condition:\n",
        "        Tstart = self.t #.copy()\n",
        "\n",
        "        # construct callable function for rhs (model tendencies):        \n",
        "        rhs = lambda t, x: self.compute_NRI(x) * time_scale\n",
        "\n",
        "        # Integrate using odeint: (stiffness is no longer a problem here!)\n",
        "        (Tequim, info) = odeint(rhs, Tstart, time,\n",
        "                                Dfun=None,\n",
        "                                full_output=True,\n",
        "                                printmessg=verbose, tfirst=True)\n",
        "        Tequim = Tequim.squeeze()\n",
        "\n",
        "        if verbose:\n",
        "            print(info)\n",
        "\n",
        "        if update_state:\n",
        "            # update model Equilibrium Temperature with last computed stage:\n",
        "            self.t = Tequim[-1]\n",
        "\n",
        "        # return specified integration time-series:\n",
        "        if time.size > 2:\n",
        "            return time, Tequim\n",
        "        else:\n",
        "            return Tequim[-1]\n",
        "\n",
        "if __name__ == \"__main__\":\n",
        "\n",
        "    model = ESM(t_init=255.0, lin_olr=True)\n",
        "\n",
        "    model.model_state()\n",
        "\n"
      ],
      "execution_count": 63,
      "outputs": [
        {
          "output_type": "stream",
          "text": [
            "Temeprature:  255.0  [K]\n",
            "Surface albedo:  0.3  [-]\n",
            "ASR:  238.91  [W/m^2]\n",
            "OLR:  164.61450000000005  [W/m^2]\n",
            "NRI:  74.29549999999995  [W/m^2]\n"
          ],
          "name": "stdout"
        }
      ]
    },
    {
      "cell_type": "markdown",
      "metadata": {
        "id": "LFArjtyk6rzL"
      },
      "source": [
        "# Exercise 1"
      ]
    },
    {
      "cell_type": "code",
      "metadata": {
        "id": "yjBNzwliDW3V",
        "colab": {
          "base_uri": "https://localhost:8080/",
          "height": 301
        },
        "outputId": "3d4a2536-504c-4503-93af-4f066dba5c93"
      },
      "source": [
        "t0 = 288\n",
        "\n",
        "def linear_approx(t0=288, dt=100, sigma=sigma, S0=S0):\n",
        "    dt_steps = np.linspace(-dt, dt, 1000)\n",
        "    dndt_analytic = -4 * sigma * (dt_steps + t0) ** 3\n",
        "    dndt_linearized = -4 * sigma * t0 ** 3 - dt_steps * 12 * sigma * t0 ** 2\n",
        "    return dt_steps, dndt_analytic, dndt_linearized\n",
        "\n",
        "dt, dndt_an, dndt_lin = linear_approx(t0=t0)\n",
        "\n",
        "plt.plot(dt, dndt_an, ls='solid', color='blue', label='Analytic')\n",
        "plt.plot(dt, dndt_lin, ls='solid', color='orange', label='Linearized')\n",
        "plt.fill_between(dt, dndt_lin, dndt_an, where=np.abs((dndt_lin-dndt_an)/dndt_an) <= 0.1, color='green')\n",
        "plt.legend()\n",
        "plt.xlabel(f'Temperature Deviation from $T_0={t0}$K')\n",
        "plt.ylabel('dN/dT')"
      ],
      "execution_count": null,
      "outputs": [
        {
          "output_type": "execute_result",
          "data": {
            "text/plain": [
              "Text(0, 0.5, 'dN/dT')"
            ]
          },
          "metadata": {
            "tags": []
          },
          "execution_count": 46
        },
        {
          "output_type": "display_data",
          "data": {
            "image/png": "[encoded data removed]",
            "text/plain": [
              "<Figure size 432x288 with 1 Axes>"
            ]
          },
          "metadata": {
            "tags": [],
            "needs_background": "light"
          }
        }
      ]
    },
    {
      "cell_type": "markdown",
      "metadata": {
        "id": "TYfUepRU7MKI"
      },
      "source": [
        "# Exercise 2"
      ]
    },
    {
      "cell_type": "code",
      "metadata": {
        "colab": {
          "base_uri": "https://localhost:8080/"
        },
        "id": "Kgk_LqCPCUu7",
        "outputId": "c6ff2697-0ae0-4aac-d87b-afbbcd54d02f"
      },
      "source": [
        "for t_target in [288, 290.5]:\n",
        "\n",
        "    emss_low = 0.3\n",
        "    emss_high = 0.9\n",
        "\n",
        "    t_dif = 10 # arbitrary starting value, should be higher than value in while condition\n",
        "\n",
        "    while np.abs(t_dif) > 0.01:\n",
        "        new_emss = 0.5*(emss_low+emss_high)\n",
        "        model = ESM(t_init=255.0, emissivity=new_emss)\n",
        "        temp_eq = model.integrate(sim_time=25., out_freq=None, update_state=False, verbose=False)\n",
        "\n",
        "        t_dif = temp_eq - t_target\n",
        "        print(f\"Emissivity {new_emss:.4f}, Eq. Temp: {temp_eq:.4f}K, Difference: {t_dif:.4f}K\")\n",
        "\n",
        "        if t_dif > 0:\n",
        "            emss_high = new_emss\n",
        "        else:\n",
        "            emss_low = new_emss\n",
        "\n",
        "    print(f\"Required emissivity for {t_target}K: {new_emss:.4f}\")\n"
      ],
      "execution_count": null,
      "outputs": [
        {
          "output_type": "stream",
          "text": [
            "Emissivity 0.6000, Eq. Temp: 278.5359K, Difference: -9.4641K\n",
            "Emissivity 0.7500, Eq. Temp: 286.5403K, Difference: -1.4597K\n",
            "Emissivity 0.8250, Eq. Temp: 291.0072K, Difference: 3.0072K\n",
            "Emissivity 0.7875, Eq. Temp: 288.7305K, Difference: 0.7305K\n",
            "Emissivity 0.7688, Eq. Temp: 287.6250K, Difference: -0.3750K\n",
            "Emissivity 0.7781, Eq. Temp: 288.1751K, Difference: 0.1751K\n",
            "Emissivity 0.7734, Eq. Temp: 287.8994K, Difference: -0.1006K\n",
            "Emissivity 0.7758, Eq. Temp: 288.0371K, Difference: 0.0371K\n",
            "Emissivity 0.7746, Eq. Temp: 287.9682K, Difference: -0.0318K\n",
            "Emissivity 0.7752, Eq. Temp: 288.0026K, Difference: 0.0026K\n",
            "Required emissivity for 288K: 0.7752\n",
            "Emissivity 0.6000, Eq. Temp: 278.5359K, Difference: -11.9641K\n",
            "Emissivity 0.7500, Eq. Temp: 286.5403K, Difference: -3.9597K\n",
            "Emissivity 0.8250, Eq. Temp: 291.0072K, Difference: 0.5072K\n",
            "Emissivity 0.7875, Eq. Temp: 288.7305K, Difference: -1.7695K\n",
            "Emissivity 0.8062, Eq. Temp: 289.8577K, Difference: -0.6423K\n",
            "Emissivity 0.8156, Eq. Temp: 290.4296K, Difference: -0.0704K\n",
            "Emissivity 0.8203, Eq. Temp: 290.7177K, Difference: 0.2177K\n",
            "Emissivity 0.8180, Eq. Temp: 290.5734K, Difference: 0.0734K\n",
            "Emissivity 0.8168, Eq. Temp: 290.5015K, Difference: 0.0015K\n",
            "Required emissivity for 290.5K: 0.8168\n"
          ],
          "name": "stdout"
        }
      ]
    },
    {
      "cell_type": "code",
      "metadata": {
        "id": "hFj-fQNM7PsW",
        "colab": {
          "base_uri": "https://localhost:8080/",
          "height": 296
        },
        "outputId": "06cbea62-a74c-457f-ec35-58c1ec932130"
      },
      "source": [
        "emss_arr = np.linspace(0.3, 0.9, 100)\n",
        "\n",
        "temp_eq = np.empty_like(emss_arr)\n",
        "\n",
        "for i, emss in enumerate(emss_arr):\n",
        "\n",
        "    model = ESM(t_init=255.0, emissivity=emss)\n",
        "    temp_eq[i] = model.integrate(sim_time=25., out_freq=None, update_state=False, verbose=False)\n",
        "\n",
        "\n",
        "# tau = 1.0 - 0.5 * emss_arr\n",
        "plt.scatter(emss_arr, temp_eq, s=0.8)\n",
        "plt.hlines(288.0, emss_arr.min(), emss_arr.max(), colors='gray', linestyles='dashed', label='')\n",
        "plt.vlines(0.7752, 265., 296., colors='gray', linestyles='dashed', label='')\n",
        "plt.hlines(290.5, emss_arr.min(), emss_arr.max(), colors='darkslateblue', linestyles='dashed', label='')\n",
        "plt.vlines(0.8168, 265., 296., colors='darkslateblue', linestyles='dashed', label='')\n",
        "\n",
        "plt.annotate('Emissivity 0.7752, Temperature 288.0 [K]', xy=(0.3, 288.7), xycoords='data')\n",
        "plt.annotate('Emissivity 0.8168, Temperature 290.5 [K]', xy=(0.3, 291.2), xycoords='data')\n",
        "\n",
        "plt.xlabel(\"Atmosphere emissivity\")\n",
        "plt.ylabel(\"Equilibrium temperaure [K]\")\n"
      ],
      "execution_count": null,
      "outputs": [
        {
          "output_type": "execute_result",
          "data": {
            "text/plain": [
              "Text(0, 0.5, 'Equilibrium temperaure [K]')"
            ]
          },
          "metadata": {
            "tags": []
          },
          "execution_count": 91
        },
        {
          "output_type": "display_data",
          "data": {
            "image/png": "[encoded data removed]",
            "text/plain": [
              "<Figure size 432x288 with 1 Axes>"
            ]
          },
          "metadata": {
            "tags": [],
            "needs_background": "light"
          }
        }
      ]
    },
    {
      "cell_type": "markdown",
      "metadata": {
        "id": "Ejz1_fqO60NB"
      },
      "source": [
        "# Exercise 3"
      ]
    },
    {
      "cell_type": "code",
      "metadata": {
        "id": "Ov8k2qTJDXs4",
        "colab": {
          "base_uri": "https://localhost:8080/",
          "height": 701
        },
        "outputId": "48567942-6b38-4b6c-9ee3-5a85da9e25f1"
      },
      "source": [
        "model = ESM(t_init=255.0, lin_olr=False, depth=20.)\n",
        "\n",
        "model.model_state()\n",
        "\n",
        "time, temperature_0 = model.integrate(sim_time=10., out_freq=.1, update_state=True, verbose=False)\n",
        "\n",
        "print('-------------------------------------------------------------------')\n",
        "model.model_state()\n",
        "\n",
        "\n",
        "model = ESM(t_init=255.0, lin_olr=False, depth=40.)\n",
        "\n",
        "model.model_state()\n",
        "\n",
        "time, temperature_1 = model.integrate(sim_time=10., out_freq=.1, update_state=True, verbose=False)\n",
        "\n",
        "print('-------------------------------------------------------------------')\n",
        "model.model_state()\n",
        "\n",
        "plt.plot(time, temperature_0, ls='solid', color='blue', label=\"20 meters\")\n",
        "plt.plot(time, temperature_1, ls='solid', color='orange', label=\"40 meters\")\n",
        "\n",
        "plt.xlabel('Years')\n",
        "plt.ylabel('Temperature [K]')\n",
        "plt.legend()"
      ],
      "execution_count": 67,
      "outputs": [
        {
          "output_type": "stream",
          "text": [
            "Temeprature:  255.0  [K]\n",
            "Surface albedo:  0.3  [-]\n",
            "ASR:  238.91  [W/m^2]\n",
            "OLR:  167.83029609843933  [W/m^2]\n",
            "NRI:  71.07970390156066  [W/m^2]\n",
            "-------------------------------------------------------------------\n",
            "Temeprature:  278.5357866539824  [K]\n",
            "Surface albedo:  0.3  [-]\n",
            "ASR:  238.91  [W/m^2]\n",
            "OLR:  238.9096248817965  [W/m^2]\n",
            "NRI:  0.0003751182034932299  [W/m^2]\n",
            "Temeprature:  255.0  [K]\n",
            "Surface albedo:  0.3  [-]\n",
            "ASR:  238.91  [W/m^2]\n",
            "OLR:  167.83029609843933  [W/m^2]\n",
            "NRI:  71.07970390156066  [W/m^2]\n",
            "-------------------------------------------------------------------\n",
            "Temeprature:  278.4817919994524  [K]\n",
            "Surface albedo:  0.3  [-]\n",
            "ASR:  238.91  [W/m^2]\n",
            "OLR:  238.72442652989932  [W/m^2]\n",
            "NRI:  0.18557347010067815  [W/m^2]\n"
          ],
          "name": "stdout"
        },
        {
          "output_type": "execute_result",
          "data": {
            "text/plain": [
              "<matplotlib.legend.Legend at 0x7f2df8cddd90>"
            ]
          },
          "metadata": {
            "tags": []
          },
          "execution_count": 67
        },
        {
          "output_type": "display_data",
          "data": {
            "image/png": "[encoded data removed]",
            "text/plain": [
              "<Figure size 432x288 with 1 Axes>"
            ]
          },
          "metadata": {
            "tags": [],
            "needs_background": "light"
          }
        }
      ]
    },
    {
      "cell_type": "code",
      "metadata": {
        "id": "rC0nv4FIfOUe",
        "colab": {
          "base_uri": "https://localhost:8080/",
          "height": 701
        },
        "outputId": "b3d0a55f-2868-48b0-9d18-591194d10be6"
      },
      "source": [
        "model = ESM(t_init=255.0, lin_olr=False, depth=40.)\n",
        "\n",
        "model.model_state()\n",
        "\n",
        "time, temperature_0 = model.integrate(sim_time=10., out_freq=.1, update_state=True, verbose=False)\n",
        "\n",
        "print('-------------------------------------------------------------------')\n",
        "model.model_state()\n",
        "\n",
        "\n",
        "model = ESM(t_init=265.0, lin_olr=False, depth=40.)\n",
        "\n",
        "model.model_state()\n",
        "\n",
        "time, temperature_1 = model.integrate(sim_time=10., out_freq=.1, update_state=True, verbose=False)\n",
        "\n",
        "print('-------------------------------------------------------------------')\n",
        "model.model_state()\n",
        "\n",
        "plt.plot(time, temperature_0, ls='solid', color='blue', label=\"255K start\")\n",
        "plt.plot(time, temperature_1, ls='solid', color='orange', label=\"265K start\")\n",
        "\n",
        "plt.xlabel('Years')\n",
        "plt.ylabel('Temperature [K]')\n",
        "plt.legend()"
      ],
      "execution_count": 68,
      "outputs": [
        {
          "output_type": "stream",
          "text": [
            "Temeprature:  255.0  [K]\n",
            "Surface albedo:  0.3  [-]\n",
            "ASR:  238.91  [W/m^2]\n",
            "OLR:  167.83029609843933  [W/m^2]\n",
            "NRI:  71.07970390156066  [W/m^2]\n",
            "-------------------------------------------------------------------\n",
            "Temeprature:  278.4817919994524  [K]\n",
            "Surface albedo:  0.3  [-]\n",
            "ASR:  238.91  [W/m^2]\n",
            "OLR:  238.72442652989932  [W/m^2]\n",
            "NRI:  0.18557347010067815  [W/m^2]\n",
            "Temeprature:  265.0  [K]\n",
            "Surface albedo:  0.3  [-]\n",
            "ASR:  238.91  [W/m^2]\n",
            "OLR:  195.74610755676142  [W/m^2]\n",
            "NRI:  43.16389244323858  [W/m^2]\n",
            "-------------------------------------------------------------------\n",
            "Temeprature:  278.50649825666517  [K]\n",
            "Surface albedo:  0.3  [-]\n",
            "ASR:  238.91  [W/m^2]\n",
            "OLR:  238.80915410899803  [W/m^2]\n",
            "NRI:  0.10084589100196695  [W/m^2]\n"
          ],
          "name": "stdout"
        },
        {
          "output_type": "execute_result",
          "data": {
            "text/plain": [
              "<matplotlib.legend.Legend at 0x7f2df8c5ae10>"
            ]
          },
          "metadata": {
            "tags": []
          },
          "execution_count": 68
        },
        {
          "output_type": "display_data",
          "data": {
            "image/png": "[encoded data removed]",
            "text/plain": [
              "<Figure size 432x288 with 1 Axes>"
            ]
          },
          "metadata": {
            "tags": [],
            "needs_background": "light"
          }
        }
      ]
    }
  ]
}